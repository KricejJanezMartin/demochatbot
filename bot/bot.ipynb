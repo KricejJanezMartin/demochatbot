{
 "cells": [
  {
   "cell_type": "code",
   "execution_count": 1,
   "metadata": {},
   "outputs": [
    {
     "name": "stderr",
     "output_type": "stream",
     "text": [
      "c:\\Users\\Janez\\AppData\\Local\\pypoetry\\Cache\\virtualenvs\\demochatbot-TOMp1yh_-py3.10\\lib\\site-packages\\pinecone\\data\\index.py:1: TqdmWarning: IProgress not found. Please update jupyter and ipywidgets. See https://ipywidgets.readthedocs.io/en/stable/user_install.html\n",
      "  from tqdm.autonotebook import tqdm\n"
     ]
    }
   ],
   "source": [
    "from IPython.display import Markdown, display\n",
    "import os"
   ]
  },
  {
   "cell_type": "code",
   "execution_count": 2,
   "metadata": {},
   "outputs": [
    {
     "name": "stdout",
     "output_type": "stream",
     "text": [
      "e5a39386-36f1-408d-92eb-836208c7de72\n"
     ]
    }
   ],
   "source": [
    "from pinecone.grpc import PineconeGRPC\n",
    "from pinecone import ServerlessSpec\n",
    "from llama_index.vector_stores.pinecone import PineconeVectorStore\n",
    "\n",
    "api_key = os.environ[\"PINECONE_API_KEY\"]\n",
    "print(api_key)\n",
    "\n",
    "index_name = \"chatbot-huberman-telegram\"\n",
    "# dimensions are for text-embedding-ada-002\n",
    "# Initialize connection to Pinecone\n",
    "pc = PineconeGRPC(api_key=api_key)\n",
    "index_name = \"llama-integration-example\"\n",
    "\n",
    "# Create your index (can skip this step if your index already exists)\n",
    "pc.create_index(\n",
    "    index_name,\n",
    "    dimension=1536,\n",
    "    spec=ServerlessSpec(cloud=\"aws\", region=\"us-east-1\"),\n",
    ")\n",
    "\n",
    "# Initialize your index\n",
    "pinecone_index = pc.Index(index_name)\n",
    "\n",
    "# Initialize VectorStore\n",
    "vector_store = PineconeVectorStore(pinecone_index=pinecone_index)"
   ]
  },
  {
   "cell_type": "code",
   "execution_count": 3,
   "metadata": {},
   "outputs": [
    {
     "name": "stderr",
     "output_type": "stream",
     "text": [
      "Upserted vectors: 100%|██████████| 179/179 [00:10<00:00, 17.13it/s]\n"
     ]
    }
   ],
   "source": [
    "from llama_index.core import VectorStoreIndex, SimpleDirectoryReader\n",
    "from llama_index.vector_stores.pinecone import PineconeVectorStore\n",
    "from IPython.display import Markdown, display\n",
    "from llama_index.core import StorageContext\n",
    "# load documents\n",
    "documents = SimpleDirectoryReader(\"../data\").load_data()\n",
    "\n",
    "storage_context = StorageContext.from_defaults(vector_store=vector_store)\n",
    "index = VectorStoreIndex.from_documents(\n",
    "    documents, storage_context=storage_context\n",
    ")"
   ]
  },
  {
   "cell_type": "code",
   "execution_count": 6,
   "metadata": {},
   "outputs": [
    {
     "data": {
      "text/markdown": [
       "<b>If you are a nightshift worker looking to optimize your sleep, there are several strategies you can consider. Firstly, it is recommended to ensure your sleeping environment is conducive to rest by minimizing exposure to artificial light during the day when you need to sleep. Additionally, exposing yourself to natural light early in the day can help regulate your circadian rhythm. \n",
       "\n",
       "In terms of supplements that may aid in improving your sleep quality, magnesium and theanine are two options to consider. Magnesium has been shown to increase the depth of sleep and reduce the time it takes to fall asleep. Magnesium threonate is a bioavailable form that is preferentially absorbed by the brain. Theanine activates certain GABA pathways that help in calming the mind and facilitating sleep. Taking magnesium and theanine 30 to 60 minutes before bedtime may help optimize your sleep as a nightshift worker.</b>"
      ],
      "text/plain": [
       "<IPython.core.display.Markdown object>"
      ]
     },
     "metadata": {},
     "output_type": "display_data"
    }
   ],
   "source": [
    "\n",
    "# set Logging to DEBUG for more detailed outputs\n",
    "query_engine = index.as_query_engine()\n",
    "response = query_engine.query(\"I am a nightshift worker. How can i optimize my sleep? What are some supplements that would help me?\")\n",
    "display(Markdown(f\"<b>{response}</b>\"))"
   ]
  }
 ],
 "metadata": {
  "kernelspec": {
   "display_name": "demochatbot-TOMp1yh_-py3.10",
   "language": "python",
   "name": "python3"
  },
  "language_info": {
   "codemirror_mode": {
    "name": "ipython",
    "version": 3
   },
   "file_extension": ".py",
   "mimetype": "text/x-python",
   "name": "python",
   "nbconvert_exporter": "python",
   "pygments_lexer": "ipython3",
   "version": "3.10.10"
  }
 },
 "nbformat": 4,
 "nbformat_minor": 2
}
